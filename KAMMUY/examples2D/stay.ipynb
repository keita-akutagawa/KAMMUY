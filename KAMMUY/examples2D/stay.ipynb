{
 "cells": [
  {
   "cell_type": "code",
   "execution_count": 1,
   "metadata": {
    "id": "YfnfM59RA2-W"
   },
   "outputs": [],
   "source": [
    "import numpy as np\n",
    "from scipy import stats\n",
    "import matplotlib.pyplot as plt\n",
    "import cv2"
   ]
  },
  {
   "cell_type": "code",
   "execution_count": 2,
   "metadata": {},
   "outputs": [],
   "source": [
    "# load data\n",
    "buffer = 3\n",
    "procs = 1\n",
    "grid_size_ratio = 8\n",
    "dirname = f\"/cfca-work/akutagawakt/KAMMUY_latest/results_stay_grid_size_ratio={grid_size_ratio}\"\n",
    "picture_dirname = f\"pictures_stay_grid_size_ratio={grid_size_ratio}\"\n",
    "\n",
    "# PIC\n",
    "c = 1.0\n",
    "mu_0 = 1.0\n",
    "epsilon0 = 1.0 / (mu_0 * c**2)\n",
    "m_electron = 1.0\n",
    "r_m = 1 / 25\n",
    "m_ion = m_electron / r_m\n",
    "t_r = 1.0\n",
    "ne0_pic = 100\n",
    "ni0_pic = ne0_pic\n",
    "B0_pic = np.sqrt(ne0_pic) / 1.0\n",
    "Te_pic = 0.5 * m_electron * (np.sqrt(0.02)*c)**2\n",
    "Ti_pic = Te_pic / t_r\n",
    "q_electron = -1 * np.sqrt(epsilon0 * Te_pic / ne0_pic)\n",
    "q_ion = -1 * q_electron\n",
    "debye_length = np.sqrt(epsilon0 * Te_pic / ne0_pic / q_electron**2)\n",
    "omega_pe = np.sqrt(ne0_pic * q_electron**2 / m_electron / epsilon0)\n",
    "omega_pi = np.sqrt(ni0_pic * q_ion**2 / m_ion / epsilon0)\n",
    "omega_ce = q_electron * B0_pic / m_electron\n",
    "omega_ci = q_ion * B0_pic / m_ion\n",
    "VA_pic = B0_pic / np.sqrt(mu_0 * ni0_pic * m_ion)\n",
    "gamma_pic = 5.0 / 3.0\n",
    "rho_pic = ni0_pic * m_ion + ne0_pic * m_electron\n",
    "p_pic = ni0_pic * Ti_pic + ne0_pic * Te_pic\n",
    "CS_pic = np.sqrt(gamma_pic * p_pic / rho_pic)\n",
    "v_thermal_electron = np.sqrt(2.0 * Te_pic / m_electron)\n",
    "v_thermal_ion = np.sqrt(2.0 * Ti_pic / m_ion)\n",
    "ion_inertial_length = c / omega_pi\n",
    "\n",
    "dx_pic = 1.0\n",
    "nx_pic = 100\n",
    "x_min_pic = 0.0\n",
    "x_max_pic = (nx_pic + 2 * buffer) * dx_pic\n",
    "x_coordinate_pic = np.arange(0.0, x_max_pic, dx_pic)\n",
    "dy_pic = 1.0\n",
    "ny_pic = 100\n",
    "y_min_pic = 0.0\n",
    "y_max_pic = ny_pic * dy_pic\n",
    "y_coordinate_pic = np.arange(0.0, y_max_pic, dy_pic)\n",
    "\n",
    "X_pic, Y_pic = np.meshgrid(x_coordinate_pic, y_coordinate_pic)\n",
    "\n",
    "n_ion = int(ni0_pic * nx_pic)\n",
    "n_electron = int(n_ion * abs(q_ion / q_electron))\n",
    "\n",
    "\n",
    "# MHD\n",
    "gamma_mhd = 5.0 / 3.0\n",
    "B0_mhd = B0_pic\n",
    "rho0_mhd = ne0_pic * m_electron + ni0_pic * m_ion\n",
    "p0_mhd = ne0_pic * Te_pic + ni0_pic * Ti_pic\n",
    "VA_mhd = B0_mhd / np.sqrt(rho0_mhd)\n",
    "CS_mhd = np.sqrt(gamma_mhd * p0_mhd / rho0_mhd)\n",
    "Cf_mhd = np.sqrt(VA_mhd**2 + CS_mhd**2)\n",
    "beta_mhd = p0_mhd / (B0_mhd**2 / 2)\n",
    "\n",
    "dx_mhd = 1.0\n",
    "nx_mhd = int(nx_pic / grid_size_ratio)\n",
    "x_min_mhd = 0.0\n",
    "x_max_mhd = (nx_mhd + 2 * buffer) * grid_size_ratio * dx_mhd\n",
    "dy_mhd = 1.0\n",
    "ny_mhd = int(ny_pic * 4 / grid_size_ratio)\n",
    "y_min_mhd = 0.0\n",
    "y_max_mhd = ny_mhd * grid_size_ratio * dy_mhd\n",
    "\n",
    "x_coordinate_mhd = np.arange(x_min_mhd, x_max_mhd, dx_mhd * grid_size_ratio)\n",
    "y_coordinate_mhd = np.arange(y_min_mhd, y_max_mhd, dy_mhd * grid_size_ratio)\n",
    "X_mhd, Y_mhd = np.meshgrid(x_coordinate_mhd, y_coordinate_mhd)"
   ]
  },
  {
   "cell_type": "code",
   "execution_count": 11,
   "metadata": {},
   "outputs": [],
   "source": [
    "grid_size_ratio = 1\n",
    "filename = f\"stay_grid_size_ratio={grid_size_ratio}.mp4\"\n",
    "pictures_dir = f\"pictures_stay_grid_size_ratio={grid_size_ratio}\"\n",
    "\n",
    "img = cv2.imread(f'./{pictures_dir}/0.png')\n",
    "framesize = (img.shape[1], img.shape[0])\n",
    "fps = 5.0\n",
    "\n",
    "fourcc = cv2.VideoWriter_fourcc('m','p','4','v')\n",
    "video  = cv2.VideoWriter(filename=filename, fourcc=fourcc, fps=fps, frameSize=framesize)\n",
    "\n",
    "for step in range(0, 1000 + 1, 10):\n",
    "    img = cv2.imread(f'./{pictures_dir}/{step}.png')\n",
    "    video.write(img)\n",
    "video.release()"
   ]
  },
  {
   "cell_type": "code",
   "execution_count": null,
   "metadata": {},
   "outputs": [],
   "source": []
  }
 ],
 "metadata": {
  "colab": {
   "provenance": []
  },
  "kernelspec": {
   "display_name": "base",
   "language": "python",
   "name": "python3"
  },
  "language_info": {
   "codemirror_mode": {
    "name": "ipython",
    "version": 3
   },
   "file_extension": ".py",
   "mimetype": "text/x-python",
   "name": "python",
   "nbconvert_exporter": "python",
   "pygments_lexer": "ipython3",
   "version": "3.9.16"
  },
  "orig_nbformat": 4,
  "vscode": {
   "interpreter": {
    "hash": "6d11b7bbb64f1de9695c8577611914fee19d598429173be56ca2782175e3af79"
   }
  }
 },
 "nbformat": 4,
 "nbformat_minor": 0
}
