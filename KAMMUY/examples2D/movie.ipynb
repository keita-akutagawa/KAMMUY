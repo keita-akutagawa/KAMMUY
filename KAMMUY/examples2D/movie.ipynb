{
 "cells": [
  {
   "cell_type": "code",
   "execution_count": 1,
   "metadata": {
    "id": "YfnfM59RA2-W"
   },
   "outputs": [],
   "source": [
    "import numpy as np\n",
    "from scipy import stats\n",
    "import matplotlib.pyplot as plt\n",
    "import cv2"
   ]
  },
  {
   "cell_type": "code",
   "execution_count": null,
   "metadata": {},
   "outputs": [
    {
     "ename": "NameError",
     "evalue": "name 'cv2' is not defined",
     "output_type": "error",
     "traceback": [
      "\u001b[1;31m---------------------------------------------------------------------------\u001b[0m",
      "\u001b[1;31mNameError\u001b[0m                                 Traceback (most recent call last)",
      "Cell \u001b[1;32mIn[1], line 5\u001b[0m\n\u001b[0;32m      2\u001b[0m filename \u001b[38;5;241m=\u001b[39m \u001b[38;5;124mf\u001b[39m\u001b[38;5;124m\"\u001b[39m\u001b[38;5;124mmrx_grid_size_ratio=\u001b[39m\u001b[38;5;132;01m{\u001b[39;00mgrid_size_ratio\u001b[38;5;132;01m}\u001b[39;00m\u001b[38;5;124m_forcefree_e.mp4\u001b[39m\u001b[38;5;124m\"\u001b[39m\n\u001b[0;32m      3\u001b[0m pictures_dir \u001b[38;5;241m=\u001b[39m \u001b[38;5;124mf\u001b[39m\u001b[38;5;124m\"\u001b[39m\u001b[38;5;124mpictures_mrx_grid_size_ratio=\u001b[39m\u001b[38;5;132;01m{\u001b[39;00mgrid_size_ratio\u001b[38;5;132;01m}\u001b[39;00m\u001b[38;5;124m_forcefree_e\u001b[39m\u001b[38;5;124m\"\u001b[39m\n\u001b[1;32m----> 5\u001b[0m img \u001b[38;5;241m=\u001b[39m \u001b[43mcv2\u001b[49m\u001b[38;5;241m.\u001b[39mimread(\u001b[38;5;124mf\u001b[39m\u001b[38;5;124m'\u001b[39m\u001b[38;5;124m./\u001b[39m\u001b[38;5;132;01m{\u001b[39;00mpictures_dir\u001b[38;5;132;01m}\u001b[39;00m\u001b[38;5;124m/0.png\u001b[39m\u001b[38;5;124m'\u001b[39m)\n\u001b[0;32m      6\u001b[0m framesize \u001b[38;5;241m=\u001b[39m (img\u001b[38;5;241m.\u001b[39mshape[\u001b[38;5;241m1\u001b[39m], img\u001b[38;5;241m.\u001b[39mshape[\u001b[38;5;241m0\u001b[39m])\n\u001b[0;32m      7\u001b[0m fps \u001b[38;5;241m=\u001b[39m \u001b[38;5;241m10.0\u001b[39m\n",
      "\u001b[1;31mNameError\u001b[0m: name 'cv2' is not defined"
     ]
    }
   ],
   "source": [
    "grid_size_ratio = 2\n",
    "filename = f\"mrx_grid_size_ratio={grid_size_ratio}_forcefree.mp4\"\n",
    "pictures_dir = f\"pictures_mrx_grid_size_ratio={grid_size_ratio}_forcefree\"\n",
    "\n",
    "img = cv2.imread(f'./{pictures_dir}/0.png')\n",
    "framesize = (img.shape[1], img.shape[0])\n",
    "fps = 10.0\n",
    "\n",
    "fourcc = cv2.VideoWriter_fourcc('m','p','4','v')\n",
    "video  = cv2.VideoWriter(filename=filename, fourcc=fourcc, fps=fps, frameSize=framesize)\n",
    "\n",
    "for step in range(0, 3000 + 1, 25):\n",
    "    img = cv2.imread(f'./{pictures_dir}/{step}.png')\n",
    "    video.write(img)\n",
    "video.release()"
   ]
  },
  {
   "cell_type": "code",
   "execution_count": null,
   "metadata": {},
   "outputs": [],
   "source": []
  }
 ],
 "metadata": {
  "colab": {
   "provenance": []
  },
  "kernelspec": {
   "display_name": "base",
   "language": "python",
   "name": "python3"
  },
  "language_info": {
   "codemirror_mode": {
    "name": "ipython",
    "version": 3
   },
   "file_extension": ".py",
   "mimetype": "text/x-python",
   "name": "python",
   "nbconvert_exporter": "python",
   "pygments_lexer": "ipython3",
   "version": "3.9.16"
  },
  "orig_nbformat": 4,
  "vscode": {
   "interpreter": {
    "hash": "6d11b7bbb64f1de9695c8577611914fee19d598429173be56ca2782175e3af79"
   }
  }
 },
 "nbformat": 4,
 "nbformat_minor": 0
}
